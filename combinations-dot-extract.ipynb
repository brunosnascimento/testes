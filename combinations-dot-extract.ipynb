{
 "cells": [
  {
   "cell_type": "markdown",
   "metadata": {},
   "source": [
    "# Estrutura do código"
   ]
  },
  {
   "cell_type": "code",
   "execution_count": 3,
   "metadata": {},
   "outputs": [],
   "source": [
    "# importing libs \n",
    "import pandas as pd  \n",
    "import csv"
   ]
  },
  {
   "cell_type": "code",
   "execution_count": 4,
   "metadata": {},
   "outputs": [
    {
     "name": "stdout",
     "output_type": "stream",
     "text": [
      "['t.este@gmail.com', 'te.ste@gmail.com', 'tes.te@gmail.com', 'test.e@gmail.com', 't.e.ste@gmail.com', 't.es.te@gmail.com', 't.est.e@gmail.com', 'te.s.te@gmail.com', 'te.st.e@gmail.com', 'tes.t.e@gmail.com', 't.e.s.te@gmail.com', 't.e.st.e@gmail.com', 't.es.t.e@gmail.com', 'te.s.t.e@gmail.com', 't.e.s.t.e@gmail.com']\n"
     ]
    }
   ],
   "source": [
    "my_str = \"teste\"         # original string\n",
    "\n",
    "# recursive function for constructing dots\n",
    "def construct_dot(s, t):\n",
    "    # s - the string to put dots\n",
    "    # t - number of dots to put\n",
    "\n",
    "    # zero dots will return the original string in a list (stop criteria)\n",
    "    if t==0: return [s]\n",
    "\n",
    "    # allocation for results list\n",
    "    new_list = []\n",
    "\n",
    "    # iterate the next dot location, considering the remaining dots.\n",
    "    for p in range(1,len(s) - t + 1):\n",
    "\n",
    "        new_str = str(s[:p]) + '.' # put the dot in the location\n",
    "        res_str = str(s[p:]) # crop the string frot the dot to the end\n",
    "\n",
    "        sub_list = construct_dot(res_str, t-1) # make a list with t-1 dots (recursive)\n",
    "\n",
    "        # append concatenated strings\n",
    "        for sl in sub_list:\n",
    "            new_list.append(new_str + sl)\n",
    "\n",
    "    # we result with a list of the string with the dots.\n",
    "    return new_list\n",
    "\n",
    "# now we will iterate the number of the dots that we want to put in the string.\n",
    "# 0 dots will return the original string, and we can put maximum of len(string) -1 dots.\n",
    "all_list = []\n",
    "for n_dots in range(1, len(my_str)):\n",
    "    all_list.extend(construct_dot(my_str,n_dots))\n",
    "\n",
    "# and see the results\n",
    "all_list = [\"{}{}\".format(i,'@gmail.com') for i in all_list]\n",
    "print(all_list)\n",
    "\n",
    "# df = pd.DataFrame(all_list) \n",
    "\n",
    "# saving the dataframe \n",
    "# df.to_csv('list-email.csv') \n",
    "\n",
    "with open('list-email.csv', 'w') as csvfile:\n",
    "      \n",
    "    # using csv.writer method from CSV package\n",
    "    write = csv.writer(csvfile)\n",
    "    for item in all_list:\n",
    "        write.writerow(item)"
   ]
  }
 ],
 "metadata": {
  "interpreter": {
   "hash": "4480e32245891b07b354378c7dbc380a1b3f17ee24171af64af582c25470e498"
  },
  "kernelspec": {
   "display_name": "Python 3.8.8 ('base')",
   "language": "python",
   "name": "python3"
  },
  "language_info": {
   "codemirror_mode": {
    "name": "ipython",
    "version": 3
   },
   "file_extension": ".py",
   "mimetype": "text/x-python",
   "name": "python",
   "nbconvert_exporter": "python",
   "pygments_lexer": "ipython3",
   "version": "3.8.8"
  },
  "orig_nbformat": 4
 },
 "nbformat": 4,
 "nbformat_minor": 2
}
